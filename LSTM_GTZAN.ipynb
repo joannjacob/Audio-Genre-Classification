{
  "cells": [
    {
      "cell_type": "markdown",
      "metadata": {
        "id": "PFfiI0dJkqG7"
      },
      "source": [
        "## Install and import all libraries"
      ]
    },
    {
      "cell_type": "code",
      "execution_count": 18,
      "metadata": {
        "colab": {
          "base_uri": "https://localhost:8080/"
        },
        "id": "NVARVAkBdnyY",
        "outputId": "eb38c2d3-1ac7-4480-e18d-23af7a82465f"
      },
      "outputs": [
        {
          "output_type": "stream",
          "name": "stdout",
          "text": [
            "Looking in indexes: https://pypi.org/simple, https://us-python.pkg.dev/colab-wheels/public/simple/\n",
            "Requirement already satisfied: librosa in /usr/local/lib/python3.10/dist-packages (0.10.0.post2)\n",
            "Requirement already satisfied: audioread>=2.1.9 in /usr/local/lib/python3.10/dist-packages (from librosa) (3.0.0)\n",
            "Requirement already satisfied: numpy!=1.22.0,!=1.22.1,!=1.22.2,>=1.20.3 in /usr/local/lib/python3.10/dist-packages (from librosa) (1.22.4)\n",
            "Requirement already satisfied: scipy>=1.2.0 in /usr/local/lib/python3.10/dist-packages (from librosa) (1.10.1)\n",
            "Requirement already satisfied: scikit-learn>=0.20.0 in /usr/local/lib/python3.10/dist-packages (from librosa) (1.2.2)\n",
            "Requirement already satisfied: joblib>=0.14 in /usr/local/lib/python3.10/dist-packages (from librosa) (1.2.0)\n",
            "Requirement already satisfied: decorator>=4.3.0 in /usr/local/lib/python3.10/dist-packages (from librosa) (4.4.2)\n",
            "Requirement already satisfied: numba>=0.51.0 in /usr/local/lib/python3.10/dist-packages (from librosa) (0.56.4)\n",
            "Requirement already satisfied: soundfile>=0.12.1 in /usr/local/lib/python3.10/dist-packages (from librosa) (0.12.1)\n",
            "Requirement already satisfied: pooch<1.7,>=1.0 in /usr/local/lib/python3.10/dist-packages (from librosa) (1.6.0)\n",
            "Requirement already satisfied: soxr>=0.3.2 in /usr/local/lib/python3.10/dist-packages (from librosa) (0.3.5)\n",
            "Requirement already satisfied: typing-extensions>=4.1.1 in /usr/local/lib/python3.10/dist-packages (from librosa) (4.6.3)\n",
            "Requirement already satisfied: lazy-loader>=0.1 in /usr/local/lib/python3.10/dist-packages (from librosa) (0.2)\n",
            "Requirement already satisfied: msgpack>=1.0 in /usr/local/lib/python3.10/dist-packages (from librosa) (1.0.5)\n",
            "Requirement already satisfied: llvmlite<0.40,>=0.39.0dev0 in /usr/local/lib/python3.10/dist-packages (from numba>=0.51.0->librosa) (0.39.1)\n",
            "Requirement already satisfied: setuptools in /usr/local/lib/python3.10/dist-packages (from numba>=0.51.0->librosa) (67.7.2)\n",
            "Requirement already satisfied: appdirs>=1.3.0 in /usr/local/lib/python3.10/dist-packages (from pooch<1.7,>=1.0->librosa) (1.4.4)\n",
            "Requirement already satisfied: packaging>=20.0 in /usr/local/lib/python3.10/dist-packages (from pooch<1.7,>=1.0->librosa) (23.1)\n",
            "Requirement already satisfied: requests>=2.19.0 in /usr/local/lib/python3.10/dist-packages (from pooch<1.7,>=1.0->librosa) (2.27.1)\n",
            "Requirement already satisfied: threadpoolctl>=2.0.0 in /usr/local/lib/python3.10/dist-packages (from scikit-learn>=0.20.0->librosa) (3.1.0)\n",
            "Requirement already satisfied: cffi>=1.0 in /usr/local/lib/python3.10/dist-packages (from soundfile>=0.12.1->librosa) (1.15.1)\n",
            "Requirement already satisfied: pycparser in /usr/local/lib/python3.10/dist-packages (from cffi>=1.0->soundfile>=0.12.1->librosa) (2.21)\n",
            "Requirement already satisfied: urllib3<1.27,>=1.21.1 in /usr/local/lib/python3.10/dist-packages (from requests>=2.19.0->pooch<1.7,>=1.0->librosa) (1.26.16)\n",
            "Requirement already satisfied: certifi>=2017.4.17 in /usr/local/lib/python3.10/dist-packages (from requests>=2.19.0->pooch<1.7,>=1.0->librosa) (2023.5.7)\n",
            "Requirement already satisfied: charset-normalizer~=2.0.0 in /usr/local/lib/python3.10/dist-packages (from requests>=2.19.0->pooch<1.7,>=1.0->librosa) (2.0.12)\n",
            "Requirement already satisfied: idna<4,>=2.5 in /usr/local/lib/python3.10/dist-packages (from requests>=2.19.0->pooch<1.7,>=1.0->librosa) (3.4)\n"
          ]
        }
      ],
      "source": [
        "!pip install --upgrade librosa"
      ]
    },
    {
      "cell_type": "code",
      "execution_count": 19,
      "metadata": {
        "id": "ORJFEVMGNvsL"
      },
      "outputs": [],
      "source": [
        "import os\n",
        "import librosa\n",
        "import sklearn\n",
        "import IPython\n",
        "import pandas as pd\n",
        "import numpy as np\n",
        "import matplotlib.pyplot as plt\n",
        "from google.colab import drive\n",
        "from sklearn.model_selection import train_test_split\n",
        "from tensorflow.keras.models import Sequential\n",
        "from tensorflow.keras.layers import LSTM, Dense, Dropout\n",
        "from tensorflow.keras.optimizers import Adam\n",
        "from keras.utils import to_categorical\n",
        "from sklearn.preprocessing import LabelEncoder\n"
      ]
    },
    {
      "cell_type": "code",
      "execution_count": 19,
      "metadata": {
        "id": "ebCBvGsq5E4X"
      },
      "outputs": [],
      "source": []
    },
    {
      "cell_type": "markdown",
      "metadata": {
        "id": "3u5J0PtRJHfd"
      },
      "source": [
        "## 1. Load Data from Google Drive"
      ]
    },
    {
      "cell_type": "code",
      "execution_count": 20,
      "metadata": {
        "colab": {
          "base_uri": "https://localhost:8080/"
        },
        "id": "xLd55oX6XTqO",
        "outputId": "1c70d535-84b3-4213-898d-386e0139e991"
      },
      "outputs": [
        {
          "output_type": "stream",
          "name": "stdout",
          "text": [
            "Mounted at /content/drive\n"
          ]
        }
      ],
      "source": [
        "drive.mount('/content/drive', force_remount=True)"
      ]
    },
    {
      "cell_type": "code",
      "execution_count": 21,
      "metadata": {
        "id": "5VjjEbQ2gqo8"
      },
      "outputs": [],
      "source": [
        "base_path = \"/content/drive/My Drive/DS 5500\"\n",
        "\n",
        "folder_path = f'{base_path}/Data/genres_original'  # replace with your folder path\n",
        "files = os.listdir(folder_path)\n",
        "\n",
        "labels = []\n",
        "\n",
        "for file in files:\n",
        "    labels.append(file)\n",
        "\n",
        "song_dct = {}\n",
        "for label in labels:\n",
        "  folder_path = f'{base_path}/Data/genres_original/{label}'  # replace with your folder path\n",
        "  files = os.listdir(folder_path)\n",
        "  song_dct[label] = files\n",
        "\n",
        "images_dct = {}\n",
        "for label in labels:\n",
        "  folder_path = f'{base_path}/Data/images_original/{label}'  # replace with your folder path\n",
        "  files = os.listdir(folder_path)\n",
        "  images_dct[label] = files\n"
      ]
    },
    {
      "cell_type": "code",
      "execution_count": 22,
      "metadata": {
        "colab": {
          "base_uri": "https://localhost:8080/",
          "height": 516
        },
        "id": "DGGLy2JVKhL4",
        "outputId": "1ab69096-a880-473f-d9a7-511e4033bef3"
      },
      "outputs": [
        {
          "output_type": "display_data",
          "data": {
            "text/plain": [
              "<Figure size 640x480 with 1 Axes>"
            ],
            "image/png": "[encoded data removed]"
          },
          "metadata": {}
        }
      ],
      "source": [
        "# Calculate the number of samples per genre\n",
        "genre_counts = {genre: len(audio_files) for genre, audio_files in song_dct.items()}\n",
        "\n",
        "# bar chart to visualize the class distribution\n",
        "plt.bar(genre_counts.keys(), genre_counts.values())\n",
        "plt.xlabel('Genre')\n",
        "plt.ylabel('Number of Samples')\n",
        "plt.title('Class Distribution of GTZAN Dataset')\n",
        "plt.xticks(rotation=90)\n",
        "plt.show()"
      ]
    },
    {
      "cell_type": "markdown",
      "metadata": {
        "id": "pYDqhAhnSbE9"
      },
      "source": [
        "## 2. Data Preprocessing"
      ]
    },
    {
      "cell_type": "markdown",
      "metadata": {
        "id": "JNtp0DfTSf0m"
      },
      "source": [
        "### 2.1 Convert to Spectrograms"
      ]
    },
    {
      "cell_type": "markdown",
      "metadata": {
        "id": "6O7hXlpJl2Ci"
      },
      "source": [
        "### 2.2 Convert to MFCCs\n",
        "\n",
        "Mel Frequency Cepstral Coefficients - MFCCs are derived from the short-term power spectrum of an audio signal and are used to represent the spectral characteristics of the signal in a compact form."
      ]
    },
    {
      "cell_type": "code",
      "execution_count": 23,
      "metadata": {
        "colab": {
          "base_uri": "https://localhost:8080/"
        },
        "id": "y-qu6ewQhj0r",
        "outputId": "fd4f9348-572c-4cba-ae5b-a382d6beaadb"
      },
      "outputs": [
        {
          "output_type": "stream",
          "name": "stderr",
          "text": [
            "<ipython-input-23-c1027e70ed45>:22: UserWarning: PySoundFile failed. Trying audioread instead.\n",
            "  y, sr = librosa.load(audio_file_path)\n",
            "/usr/local/lib/python3.10/dist-packages/librosa/core/audio.py:184: FutureWarning: librosa.core.audio.__audioread_load\n",
            "\tDeprecated as of librosa version 0.10.0.\n",
            "\tIt will be removed in librosa version 1.0.\n",
            "  y, sr_native = __audioread_load(path, offset, duration, dtype)\n"
          ]
        },
        {
          "output_type": "stream",
          "name": "stdout",
          "text": [
            "Could not process file /content/drive/My Drive/DS 5500/Data/genres_original/jazz/jazz.00054.wav: \n"
          ]
        }
      ],
      "source": [
        "import math\n",
        "mfcc_dict = {}\n",
        "rejected_files = {}\n",
        "\n",
        "#number of splits adds more training examples\n",
        "splits = 10\n",
        "#number of mfc coefficients\n",
        "num_mfcc = 13\n",
        "n_fft = 2048\n",
        "hop_length = 512 #\n",
        "\n",
        "\n",
        "\n",
        "for genre in song_dct.keys():\n",
        "  audio_files = song_dct[genre]\n",
        "  mfcc_dict[genre] = []\n",
        "  for audio in audio_files:\n",
        "    audio_file_path = f'{base_path}/Data/genres_original/{genre}/{audio}'\n",
        "\n",
        "    try:\n",
        "      # Load audio file\n",
        "      y, sr = librosa.load(audio_file_path)\n",
        "\n",
        "      sr = 22050 # changed from 22050 which is used more in speech recogniton\n",
        "      track_samples = sr * 30\n",
        "      samples_per_segment = int(track_samples / splits)\n",
        "      num_mfcc_vectors_per_segment = math.ceil(samples_per_segment / hop_length)\n",
        "\n",
        "      for n in range(splits):\n",
        "        start = samples_per_segment * n\n",
        "        end = samples_per_segment * (n+1)\n",
        "        mfcc = librosa.feature.mfcc(y = y[start:end],sr =sr, n_mfcc = num_mfcc,n_fft = n_fft, hop_length = hop_length)\n",
        "        mfcc = mfcc.T\n",
        "\n",
        "        if len(mfcc) == num_mfcc_vectors_per_segment:\n",
        "          mfcc_dict[genre].append(mfcc)\n",
        "\n",
        "    except Exception as e:\n",
        "        print(f\"Could not process file {audio_file_path}: {e}\")\n",
        "        if label in rejected_files:\n",
        "            rejected_files[label].append(audio_file_path)\n",
        "        else:\n",
        "            rejected_files[label] = [audio_file_path]"
      ]
    },
    {
      "cell_type": "code",
      "source": [
        "mfcc_dict.keys()"
      ],
      "metadata": {
        "colab": {
          "base_uri": "https://localhost:8080/"
        },
        "id": "E_YwsdqLuO0g",
        "outputId": "145dbfda-be09-4192-ed8c-6ae02ef44e20"
      },
      "execution_count": 24,
      "outputs": [
        {
          "output_type": "execute_result",
          "data": {
            "text/plain": [
              "dict_keys(['hiphop', 'rock', 'jazz', 'disco', 'pop', 'reggae', 'country', 'blues', 'classical', 'metal'])"
            ]
          },
          "metadata": {},
          "execution_count": 24
        }
      ]
    },
    {
      "cell_type": "code",
      "execution_count": 35,
      "metadata": {
        "id": "kNr17Lj5M0hm",
        "colab": {
          "base_uri": "https://localhost:8080/"
        },
        "outputId": "9799e006-f7ca-4ce1-8eea-4fc0e3e76afd"
      },
      "outputs": [
        {
          "output_type": "stream",
          "name": "stdout",
          "text": [
            "(9986, 130, 13)\n"
          ]
        }
      ],
      "source": [
        "\n",
        "# set up X and Y from dict\n",
        "X = []\n",
        "y = []\n",
        "\n",
        "# takes the labels and Mfccs and formats them into arrays\n",
        "for genre, mfccs in mfcc_dict.items():\n",
        "    for mfcc in mfccs:\n",
        "        X.append(mfcc)\n",
        "        y.append(genre)\n",
        "print(np.array(X).shape)\n",
        "\n",
        "# use np.stack instead of np.array for some reason this fixes an error later on\n",
        "X = np.stack(X)\n",
        "y = np.array(y)\n"
      ]
    },
    {
      "cell_type": "code",
      "source": [
        "X.shape"
      ],
      "metadata": {
        "colab": {
          "base_uri": "https://localhost:8080/"
        },
        "id": "3uxHVsbULpAj",
        "outputId": "cd416f00-f88f-4f2d-df61-109a5a304889"
      },
      "execution_count": 36,
      "outputs": [
        {
          "output_type": "execute_result",
          "data": {
            "text/plain": [
              "(9986, 130, 13)"
            ]
          },
          "metadata": {},
          "execution_count": 36
        }
      ]
    },
    {
      "cell_type": "code",
      "execution_count": 27,
      "metadata": {
        "id": "zeUCHzps2con"
      },
      "outputs": [],
      "source": [
        "# # New addition\n",
        "# X = (X - np.mean(X)) / np.std(X)"
      ]
    },
    {
      "cell_type": "code",
      "execution_count": 28,
      "metadata": {
        "id": "6ptH_h8j315E",
        "colab": {
          "base_uri": "https://localhost:8080/"
        },
        "outputId": "0f2df01e-b75b-4f69-c0c0-900d8a78153f"
      },
      "outputs": [
        {
          "output_type": "stream",
          "name": "stderr",
          "text": [
            "WARNING:absl:`lr` is deprecated in Keras optimizer, please use `learning_rate` or use the legacy optimizer, e.g.,tf.keras.optimizers.legacy.Adam.\n"
          ]
        }
      ],
      "source": [
        "encoder = LabelEncoder()\n",
        "y = to_categorical(encoder.fit_transform(y))\n",
        "\n",
        "# Split the dataset\n",
        "X_train, X_test, y_train, y_test = train_test_split(X, y, test_size=0.2, random_state=42)\n",
        "X_train, X_val, y_train, y_val = train_test_split(X_train, y_train, test_size=0.2, random_state=42)\n",
        "\n",
        "# LSTM model\n",
        "def create_model(input_shape):\n",
        "    model = Sequential()\n",
        "    model.add(LSTM(128, return_sequences=True, input_shape=input_shape))\n",
        "    model.add(Dropout(0.25))\n",
        "    model.add(LSTM(32, return_sequences=False))\n",
        "    model.add(Dropout(0.5))\n",
        "    model.add(Dense(10, activation='softmax')) # 10 genres in GTZAN dataset\n",
        "    return model\n",
        "\n",
        "input_shape = (X_train.shape[1], X_train.shape[2])\n",
        "model = create_model(input_shape)\n",
        "\n",
        "# Compile the model\n",
        "opt = Adam(lr=0.001)\n",
        "model.compile(loss='categorical_crossentropy', optimizer=opt, metrics=['accuracy'])\n"
      ]
    },
    {
      "cell_type": "code",
      "execution_count": null,
      "metadata": {
        "colab": {
          "base_uri": "https://localhost:8080/"
        },
        "id": "Y_OIfgUj491V",
        "outputId": "272b0b94-b6e3-4d60-f855-09b17f570d42"
      },
      "outputs": [
        {
          "output_type": "stream",
          "name": "stdout",
          "text": [
            "Epoch 1/100\n",
            "100/100 [==============================] - 46s 413ms/step - loss: 1.9217 - accuracy: 0.3233 - val_loss: 1.5398 - val_accuracy: 0.4731\n",
            "Epoch 2/100\n",
            "100/100 [==============================] - 43s 431ms/step - loss: 1.6124 - accuracy: 0.4218 - val_loss: 1.4141 - val_accuracy: 0.5113\n",
            "Epoch 3/100\n",
            "100/100 [==============================] - 38s 382ms/step - loss: 1.4917 - accuracy: 0.4815 - val_loss: 1.3304 - val_accuracy: 0.5294\n",
            "Epoch 4/100\n",
            "100/100 [==============================] - 40s 403ms/step - loss: 1.3872 - accuracy: 0.5102 - val_loss: 1.2343 - val_accuracy: 0.5682\n",
            "Epoch 5/100\n",
            "100/100 [==============================] - 41s 406ms/step - loss: 1.3286 - accuracy: 0.5427 - val_loss: 1.2092 - val_accuracy: 0.5951\n",
            "Epoch 6/100\n",
            "100/100 [==============================] - 41s 412ms/step - loss: 1.3150 - accuracy: 0.5438 - val_loss: 1.2808 - val_accuracy: 0.5494\n",
            "Epoch 7/100\n",
            "100/100 [==============================] - 41s 408ms/step - loss: 1.2759 - accuracy: 0.5562 - val_loss: 1.1918 - val_accuracy: 0.6008\n",
            "Epoch 8/100\n",
            "100/100 [==============================] - 44s 436ms/step - loss: 1.1807 - accuracy: 0.5983 - val_loss: 1.1060 - val_accuracy: 0.6327\n",
            "Epoch 9/100\n",
            "100/100 [==============================] - 40s 400ms/step - loss: 1.1156 - accuracy: 0.6171 - val_loss: 1.0589 - val_accuracy: 0.6446\n",
            "Epoch 10/100\n",
            "100/100 [==============================] - 41s 407ms/step - loss: 1.0858 - accuracy: 0.6324 - val_loss: 0.9912 - val_accuracy: 0.6677\n",
            "Epoch 11/100\n",
            "100/100 [==============================] - 38s 380ms/step - loss: 1.0566 - accuracy: 0.6402 - val_loss: 0.9874 - val_accuracy: 0.6602\n",
            "Epoch 12/100\n",
            "100/100 [==============================] - 43s 427ms/step - loss: 0.9942 - accuracy: 0.6603 - val_loss: 0.9571 - val_accuracy: 0.6765\n",
            "Epoch 13/100\n",
            "100/100 [==============================] - 48s 478ms/step - loss: 0.9543 - accuracy: 0.6848 - val_loss: 0.9627 - val_accuracy: 0.6834\n",
            "Epoch 14/100\n",
            "100/100 [==============================] - 39s 395ms/step - loss: 0.9030 - accuracy: 0.7061 - val_loss: 0.8538 - val_accuracy: 0.7109\n",
            "Epoch 15/100\n",
            "100/100 [==============================] - 39s 386ms/step - loss: 0.8614 - accuracy: 0.7196 - val_loss: 0.8314 - val_accuracy: 0.7171\n",
            "Epoch 16/100\n",
            "100/100 [==============================] - 43s 427ms/step - loss: 0.8927 - accuracy: 0.7061 - val_loss: 0.9243 - val_accuracy: 0.6758\n",
            "Epoch 17/100\n",
            "100/100 [==============================] - 42s 422ms/step - loss: 0.8510 - accuracy: 0.7275 - val_loss: 0.8641 - val_accuracy: 0.7134\n",
            "Epoch 18/100\n",
            "100/100 [==============================] - 43s 426ms/step - loss: 0.7993 - accuracy: 0.7437 - val_loss: 0.8434 - val_accuracy: 0.7121\n",
            "Epoch 19/100\n",
            "100/100 [==============================] - 38s 384ms/step - loss: 0.7855 - accuracy: 0.7469 - val_loss: 0.8145 - val_accuracy: 0.7184\n",
            "Epoch 20/100\n",
            "100/100 [==============================] - 40s 400ms/step - loss: 0.7335 - accuracy: 0.7692 - val_loss: 0.7648 - val_accuracy: 0.7384\n",
            "Epoch 21/100\n",
            "100/100 [==============================] - 40s 401ms/step - loss: 0.7292 - accuracy: 0.7664 - val_loss: 0.8026 - val_accuracy: 0.7353\n",
            "Epoch 22/100\n",
            "100/100 [==============================] - 38s 384ms/step - loss: 0.6795 - accuracy: 0.7836 - val_loss: 0.7168 - val_accuracy: 0.7622\n",
            "Epoch 23/100\n",
            "100/100 [==============================] - 43s 425ms/step - loss: 0.7071 - accuracy: 0.7757 - val_loss: 0.7676 - val_accuracy: 0.7522\n",
            "Epoch 24/100\n",
            "100/100 [==============================] - 42s 425ms/step - loss: 0.6493 - accuracy: 0.7972 - val_loss: 0.8100 - val_accuracy: 0.7516\n",
            "Epoch 25/100\n",
            "100/100 [==============================] - 41s 409ms/step - loss: 0.6337 - accuracy: 0.7978 - val_loss: 0.7544 - val_accuracy: 0.7610\n",
            "Epoch 26/100\n",
            "100/100 [==============================] - 38s 383ms/step - loss: 0.6113 - accuracy: 0.8064 - val_loss: 0.7442 - val_accuracy: 0.7610\n",
            "Epoch 27/100\n",
            "100/100 [==============================] - 40s 404ms/step - loss: 0.6055 - accuracy: 0.8094 - val_loss: 0.6989 - val_accuracy: 0.7866\n",
            "Epoch 28/100\n",
            "100/100 [==============================] - 41s 411ms/step - loss: 0.5854 - accuracy: 0.8227 - val_loss: 0.6801 - val_accuracy: 0.7835\n",
            "Epoch 29/100\n",
            "100/100 [==============================] - 39s 391ms/step - loss: 0.5470 - accuracy: 0.8279 - val_loss: 0.6832 - val_accuracy: 0.7866\n",
            "Epoch 30/100\n",
            "100/100 [==============================] - 43s 432ms/step - loss: 0.5406 - accuracy: 0.8319 - val_loss: 0.7031 - val_accuracy: 0.7835\n",
            "Epoch 31/100\n",
            "100/100 [==============================] - 43s 432ms/step - loss: 0.5619 - accuracy: 0.8330 - val_loss: 0.7412 - val_accuracy: 0.7653\n",
            "Epoch 32/100\n",
            "100/100 [==============================] - 38s 381ms/step - loss: 0.5328 - accuracy: 0.8352 - val_loss: 0.7326 - val_accuracy: 0.7866\n",
            "Epoch 33/100\n",
            "100/100 [==============================] - 38s 377ms/step - loss: 0.4821 - accuracy: 0.8488 - val_loss: 0.6792 - val_accuracy: 0.7997\n",
            "Epoch 34/100\n",
            "100/100 [==============================] - 36s 363ms/step - loss: 0.5094 - accuracy: 0.8415 - val_loss: 0.6909 - val_accuracy: 0.7847\n",
            "Epoch 35/100\n",
            "100/100 [==============================] - 40s 396ms/step - loss: 0.5533 - accuracy: 0.8297 - val_loss: 0.6976 - val_accuracy: 0.8035\n",
            "Epoch 36/100\n",
            "100/100 [==============================] - 38s 380ms/step - loss: 0.5091 - accuracy: 0.8426 - val_loss: 0.6863 - val_accuracy: 0.8010\n",
            "Epoch 37/100\n",
            "100/100 [==============================] - 39s 395ms/step - loss: 0.4297 - accuracy: 0.8643 - val_loss: 0.6560 - val_accuracy: 0.8098\n",
            "Epoch 38/100\n",
            " 73/100 [====================>.........] - ETA: 9s - loss: 0.4274 - accuracy: 0.8733"
          ]
        }
      ],
      "source": [
        "from keras.callbacks import EarlyStopping\n",
        "\n",
        "# Specify the early stopping criteria\n",
        "early_stop = EarlyStopping(monitor='val_loss', mode='min', verbose=1, patience=10)\n",
        "\n",
        "# Train the model\n",
        "history= model.fit(X_train, y_train,\n",
        "                    epochs=100,\n",
        "                    batch_size=64,\n",
        "                    validation_data=(X_val, y_val),\n",
        "                   callbacks = [early_stop])\n",
        "\n",
        "# Save the model\n",
        "model.save('baseline_LSTM.h5')\n"
      ]
    },
    {
      "cell_type": "code",
      "execution_count": null,
      "metadata": {
        "id": "1rlhregS5tXH"
      },
      "outputs": [],
      "source": [
        "# Plotting accuracy\n",
        "plt.figure(figsize=(14, 6))\n",
        "\n",
        "plt.subplot(1, 2, 1)\n",
        "plt.plot(history.history['accuracy'])\n",
        "plt.plot(history.history['val_accuracy'])\n",
        "plt.title('Model Accuracy')\n",
        "plt.ylabel('Accuracy')\n",
        "plt.xlabel('Epoch')\n",
        "plt.legend(['Train', 'Validation'])\n",
        "\n",
        "# Plotting loss\n",
        "plt.subplot(1, 2, 2)\n",
        "plt.plot(history.history['loss'])\n",
        "plt.plot(history.history['val_loss'])\n",
        "plt.title('Model Loss')\n",
        "plt.ylabel('Loss')\n",
        "plt.xlabel('Epoch')\n",
        "plt.legend(['Train', 'Validation'])\n",
        "\n",
        "plt.show()\n"
      ]
    },
    {
      "cell_type": "code",
      "source": [
        "from sklearn.metrics import confusion_matrix, ConfusionMatrixDisplay\n",
        "from sklearn.metrics import classification_report\n",
        "import numpy as np\n",
        "\n",
        "\n",
        "\n",
        "top_level_genres = encoder.classes_\n",
        "# Assuming you have the model and the validation data\n",
        "y_pred = model.predict(X_test)\n",
        "y_pred_classes = np.argmax(y_pred, axis=1)\n",
        "y_true_classes = np.argmax(y_test, axis=1)\n",
        "\n",
        "\n",
        "# Compute the confusion matrix\n",
        "cm = confusion_matrix(y_true_classes, y_pred_classes)\n",
        "\n",
        "\n",
        "# Create confusion matrix display\n",
        "disp = ConfusionMatrixDisplay(confusion_matrix=cm, display_labels=top_level_genres )\n",
        "\n",
        "# Plot the confusion matrix\n",
        "disp.plot(cmap=plt.cm.Reds)\n",
        "plt.title('Confusion Matrix')\n",
        "plt.xlabel('Predicted Genre')\n",
        "plt.ylabel('True Genre')\n",
        "# Rotate xticks vertically\n",
        "plt.xticks(rotation='vertical')\n",
        "plt.show()\n",
        "\n",
        "\n",
        "\n",
        "\n",
        "# Generate classification report\n",
        "print(classification_report(y_true_classes, y_pred_classes, target_names=top_level_genres))\n",
        "\n"
      ],
      "metadata": {
        "id": "r5DuoIruVFpZ",
        "colab": {
          "base_uri": "https://localhost:8080/",
          "height": 828
        },
        "outputId": "e23c93a7-a0b6-42ae-f679-b2e792f18253"
      },
      "execution_count": 34,
      "outputs": [
        {
          "output_type": "stream",
          "name": "stdout",
          "text": [
            "63/63 [==============================] - 10s 160ms/step\n"
          ]
        },
        {
          "output_type": "display_data",
          "data": {
            "text/plain": [
              "<Figure size 640x480 with 2 Axes>"
            ],
            "image/png": "[encoded data removed]"
          },
          "metadata": {}
        },
        {
          "output_type": "stream",
          "name": "stdout",
          "text": [
            "              precision    recall  f1-score   support\n",
            "\n",
            "       blues       0.84      0.71      0.77       199\n",
            "   classical       0.91      0.97      0.94       206\n",
            "     country       0.70      0.74      0.72       197\n",
            "       disco       0.77      0.85      0.81       192\n",
            "      hiphop       0.82      0.78      0.80       209\n",
            "        jazz       0.82      0.81      0.81       186\n",
            "       metal       0.82      0.94      0.88       207\n",
            "         pop       0.94      0.86      0.90       216\n",
            "      reggae       0.89      0.73      0.80       183\n",
            "        rock       0.62      0.68      0.65       203\n",
            "\n",
            "    accuracy                           0.81      1998\n",
            "   macro avg       0.81      0.81      0.81      1998\n",
            "weighted avg       0.81      0.81      0.81      1998\n",
            "\n"
          ]
        }
      ]
    },
    {
      "cell_type": "code",
      "source": [
        "model.summary()"
      ],
      "metadata": {
        "colab": {
          "base_uri": "https://localhost:8080/"
        },
        "id": "cBrnNnlxliQ9",
        "outputId": "0bf91766-26bd-4d7e-831f-a849460932de"
      },
      "execution_count": 32,
      "outputs": [
        {
          "metadata": {
            "tags": null
          },
          "name": "stdout",
          "output_type": "stream",
          "text": [
            "Model: \"sequential_1\"\n",
            "_________________________________________________________________\n",
            " Layer (type)                Output Shape              Param #   \n",
            "=================================================================\n",
            " lstm_2 (LSTM)               (None, 130, 128)          72704     \n",
            "                                                                 \n",
            " dropout_2 (Dropout)         (None, 130, 128)          0         \n",
            "                                                                 \n",
            " lstm_3 (LSTM)               (None, 32)                20608     \n",
            "                                                                 \n",
            " dropout_3 (Dropout)         (None, 32)                0         \n",
            "                                                                 \n",
            " dense_1 (Dense)             (None, 10)                330       \n",
            "                                                                 \n",
            "=================================================================\n",
            "Total params: 93,642\n",
            "Trainable params: 93,642\n",
            "Non-trainable params: 0\n",
            "_________________________________________________________________\n"
          ]
        }
      ]
    },
    {
      "cell_type": "code",
      "source": [
        "_, accuracy = model.evaluate(X_test, y_test)\n",
        "print('Accuracy: %.2f' % (accuracy*100))\n"
      ],
      "metadata": {
        "colab": {
          "base_uri": "https://localhost:8080/"
        },
        "id": "FJHyA5pKEnpg",
        "outputId": "2845d708-b9d5-4b27-a1c7-c600256ffe77"
      },
      "execution_count": 33,
      "outputs": [
        {
          "metadata": {
            "tags": null
          },
          "name": "stdout",
          "output_type": "stream",
          "text": [
            "63/63 [==============================] - 6s 96ms/step - loss: 0.6932 - accuracy: 0.8083\n",
            "Accuracy: 80.83\n"
          ]
        }
      ]
    },
    {
      "cell_type": "code",
      "source": [],
      "metadata": {
        "id": "Qo4vCsVlLmJt"
      },
      "execution_count": 33,
      "outputs": []
    }
  ],
  "metadata": {
    "colab": {
      "provenance": []
    },
    "kernelspec": {
      "display_name": "Python 3",
      "name": "python3"
    }
  },
  "nbformat": 4,
  "nbformat_minor": 0
}
